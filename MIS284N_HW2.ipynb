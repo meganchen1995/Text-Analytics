{
 "cells": [
  {
   "cell_type": "markdown",
   "metadata": {},
   "source": [
    "# MIS 284N Text Analysis Assignment 2"
   ]
  },
  {
   "cell_type": "markdown",
   "metadata": {},
   "source": [
    "*Siqi Chen, Joshua Larky, Jiayan Lu, Jinru Su, Korawat Tanwisuth*"
   ]
  },
  {
   "cell_type": "code",
   "execution_count": 1,
   "metadata": {
    "collapsed": true
   },
   "outputs": [],
   "source": [
    "import pandas as pd\n",
    "import operator\n",
    "from itertools import combinations\n",
    "from sklearn import manifold\n",
    "from nltk.tokenize import word_tokenize\n",
    "import numpy as np\n",
    "import matplotlib.pyplot as plt\n",
    "import urllib2\n",
    "import re\n",
    "%matplotlib inline"
   ]
  },
  {
   "cell_type": "markdown",
   "metadata": {},
   "source": [
    "### Crawler"
   ]
  },
  {
   "cell_type": "code",
   "execution_count": 2,
   "metadata": {
    "collapsed": true
   },
   "outputs": [],
   "source": [
    "base_url = \"https://forums.edmunds.com/discussion/2864/general/x/entry-level-luxury-performance-sedans/p\"\n",
    "pattern = re.compile(\"href=\\\"/profile/.*?\\\" class=\\\"Username\\\">(.*?)</a>.*?datetime=.*?>(.*?)</time>.*?class=\\\"Message\\\">(.*?)</div>\", re.S)"
   ]
  },
  {
   "cell_type": "code",
   "execution_count": 3,
   "metadata": {
    "collapsed": true
   },
   "outputs": [],
   "source": [
    "userid = []\n",
    "date = []\n",
    "msg = []\n",
    "for i in range(1, 200):\n",
    "    request = urllib2.Request(base_url+str(i))\n",
    "    response = urllib2.urlopen(request)\n",
    "    page = response.read()\n",
    "    result = re.findall(pattern, page)\n",
    "    for j in range(len(result)):\n",
    "        userid.append(result[j][0])\n",
    "        date.append(result[j][1])\n",
    "        msg.append(result[j][2])"
   ]
  },
  {
   "cell_type": "code",
   "execution_count": 4,
   "metadata": {
    "collapsed": true
   },
   "outputs": [],
   "source": [
    "myinfo = pd.DataFrame({'ID': userid, 'date':date, 'msg':msg})\n",
    "myinfo.to_csv(\"forum_msg.csv\")"
   ]
  },
  {
   "cell_type": "markdown",
   "metadata": {},
   "source": [
    "### Word Count"
   ]
  },
  {
   "cell_type": "code",
   "execution_count": 5,
   "metadata": {
    "collapsed": true
   },
   "outputs": [],
   "source": [
    "msg = pd.read_csv(\"forum_msg.csv\", index_col = 0)\n",
    "msg.msg = msg.msg.apply(lambda x: x.lstrip().lower())"
   ]
  },
  {
   "cell_type": "code",
   "execution_count": 6,
   "metadata": {
    "collapsed": true
   },
   "outputs": [],
   "source": [
    "brand_model = pd.read_excel(\"Cars make model list.xlsx\", index_col=0, header=2).reset_index().drop('index', axis=1)"
   ]
  },
  {
   "cell_type": "code",
   "execution_count": 7,
   "metadata": {
    "collapsed": true
   },
   "outputs": [],
   "source": [
    "brand_model.Search = brand_model.Search.apply(lambda x: x.lower().encode('ascii', 'ignore').decode('ascii'))"
   ]
  },
  {
   "cell_type": "code",
   "execution_count": 8,
   "metadata": {
    "collapsed": true
   },
   "outputs": [],
   "source": [
    "# replace models with brands\n",
    "def replace_model(s):\n",
    "    return reduce(lambda x, y: x.replace(y, brand_dict[y]), brand_dict, s.decode('ascii', 'ignore').encode('ascii'))\n",
    "brand_dict = dict(zip(brand_model.Search, brand_model.Replace))\n",
    "msg.msg = msg.msg.apply(replace_model)"
   ]
  },
  {
   "cell_type": "code",
   "execution_count": 9,
   "metadata": {
    "collapsed": true
   },
   "outputs": [],
   "source": [
    "# Count brands\n",
    "brand_list = brand_model.Replace.unique()\n",
    "non_brand_word = ['car', 'problem','seat','sedan']\n",
    "brand_list = [x for x in brand_list if x not in non_brand_word]\n",
    "brand_count = {}\n",
    "for b in brand_list:\n",
    "    brand_count[b] = sum(msg['msg'].str.contains(b))"
   ]
  },
  {
   "cell_type": "code",
   "execution_count": 10,
   "metadata": {},
   "outputs": [
    {
     "data": {
      "text/plain": [
       "[(u'bmw', 1927),\n",
       " (u'toyota', 1714),\n",
       " (u'pontiac', 1140),\n",
       " (u'honda', 717),\n",
       " (u'acura', 693),\n",
       " (u'audi', 622),\n",
       " (u'nissan', 588),\n",
       " (u'infiniti', 524),\n",
       " (u'ford', 312),\n",
       " (u'subaru', 299)]"
      ]
     },
     "execution_count": 10,
     "metadata": {},
     "output_type": "execute_result"
    }
   ],
   "source": [
    "sorted(brand_count.items(), key=operator.itemgetter(1), reverse = True)[:10]"
   ]
  },
  {
   "cell_type": "markdown",
   "metadata": {},
   "source": [
    "### Task A"
   ]
  },
  {
   "cell_type": "code",
   "execution_count": 11,
   "metadata": {
    "collapsed": true
   },
   "outputs": [],
   "source": [
    "top_brand_list = [x[0] for x in sorted(brand_count.items(), key=operator.itemgetter(1), reverse = True)[:10]]\n",
    "lift_matrix = [[0 for x in range(len(top_brand_list))] for y in range(len(top_brand_list))]"
   ]
  },
  {
   "cell_type": "code",
   "execution_count": 12,
   "metadata": {
    "collapsed": true
   },
   "outputs": [],
   "source": [
    "for brands in combinations(range(len(top_brand_list)), 2):\n",
    "    b0_mask = msg['msg'].str.contains(top_brand_list[brands[0]])\n",
    "    b1_mask = msg['msg'].str.contains(top_brand_list[brands[1]])\n",
    "    lift = len(msg)*1.0*sum(b0_mask & b1_mask)/sum(b0_mask) / sum(b1_mask)\n",
    "    lift_matrix[brands[0]][brands[1]] = 1/lift\n",
    "    lift_matrix[brands[1]][brands[0]] = 1/lift"
   ]
  },
  {
   "cell_type": "code",
   "execution_count": 13,
   "metadata": {
    "collapsed": true
   },
   "outputs": [],
   "source": [
    "mds = manifold.MDS(n_components=2, max_iter=3000, eps=1e-9, random_state=1,\n",
    "                   dissimilarity=\"precomputed\", n_jobs=1)\n",
    "pos = mds.fit(lift_matrix).embedding_"
   ]
  },
  {
   "cell_type": "code",
   "execution_count": 14,
   "metadata": {},
   "outputs": [
    {
     "data": {
      "image/png": "[encoded data removed]",
      "text/plain": [
       "<matplotlib.figure.Figure at 0x1094b1a50>"
      ]
     },
     "metadata": {},
     "output_type": "display_data"
    }
   ],
   "source": [
    "pos_x = [x[0] for x in pos]\n",
    "pos_y = [x[1] for x in pos]\n",
    "plt.figure(figsize=(8,8))\n",
    "plt.scatter(pos_x, pos_y)\n",
    "for i in range(len(top_brand_list)):\n",
    "    plt.text(pos_x[i]-0.035, pos_y[i]+0.01, top_brand_list[i])\n",
    "plt.show()"
   ]
  },
  {
   "cell_type": "markdown",
   "metadata": {},
   "source": [
    "### Task B"
   ]
  },
  {
   "cell_type": "markdown",
   "metadata": {},
   "source": [
    "To the Subaru brand manager:  As you can see from our graphic, Subaru is more closely mentioned in relation with Ford, than the other low-level Japanese brands (Toyota, Honda, and Nissan).  Since people are likely associating Subaru more with an American car company like Ford, it's important to recognize this, and decide if this is the direction we want Subaru to continue to take.  Association with American cars could broaden the overall appeal of Subaru in the market, but the cost is that American cars are known to be less reliable.  We need to decide if we are okay with this potential association, or if we want to change this.\n",
    "\n",
    "To the Pontiac brand manager:  Pontiac is in a very unique position, where they are closest to Infiniti, yet nobody associates Pontiac with luxury.  We are afraid that because of Pontiac's less-than-stellar reputation, people may be using Pontiac as a low-level baseline vehicle.  People may be mentioning statements similar to: \"I am now an Infiniti owner, and this car is much nicer and a smoother ride than my old Pontiac.\""
   ]
  },
  {
   "cell_type": "markdown",
   "metadata": {},
   "source": [
    "### Task C\n",
    "By examining all the words appeared, we would examine following attributes followed by their similar words\n",
    "\n",
    "<b>performance</b>: power, torque, sports, coupe, acceleration, steering, powerful\n",
    "\n",
    "<b>comfort</b>: interior, seat, leather, sound, automatic\n",
    "\n",
    "<b>reliability</b>: quality, warranty, maintenance, brake, brakes, braking\n",
    "\n",
    "<b>luxury</b>: design, premium\n",
    "\n",
    "<b>price</b>: expensive, cheap"
   ]
  },
  {
   "cell_type": "code",
   "execution_count": 15,
   "metadata": {
    "collapsed": true
   },
   "outputs": [],
   "source": [
    "def attr_replace(x):\n",
    "    curr = x.replace(\"power\", \"performance\")\n",
    "    curr = curr.replace(\"torque\", \"performance\")\n",
    "    curr = curr.replace(\"sports\", \"performance\")\n",
    "    curr = curr.replace(\"coupe\", \"performance\")\n",
    "    curr = curr.replace(\"acceleration\", \"performance\")\n",
    "    curr = curr.replace(\"steering\", \"performance\")\n",
    "    curr = curr.replace(\"powerful\", \"performance\")\n",
    "    curr = curr.replace(\"interior\", \"comfort\")\n",
    "    curr = curr.replace(\"seat\", \"comfort\")\n",
    "    curr = curr.replace(\"leather\", \"comfort\")\n",
    "    curr = curr.replace(\"sound\", \"comfort\")\n",
    "    curr = curr.replace(\"automatic\", \"comfort\")\n",
    "    curr = curr.replace(\"quality\", \"reliability\")\n",
    "    curr = curr.replace(\"warranty\", \"reliability\")\n",
    "    curr = curr.replace(\"maintenance\", \"reliability\")\n",
    "    curr = curr.replace(\"brake\", \"reliability\")\n",
    "    curr = curr.replace(\"braking\", \"reliability\")\n",
    "    curr = curr.replace(\"brakes\", \"reliability\")\n",
    "    curr = curr.replace(\"design\", \"luxury\")\n",
    "    curr = curr.replace(\"premium\", \"luxury\")\n",
    "    curr = curr.replace(\"exterior\", \"luxury\")\n",
    "    curr = curr.replace(\"expensive\", \"price\")\n",
    "    curr = curr.replace(\"cheap\", \"price\")\n",
    "    return curr"
   ]
  },
  {
   "cell_type": "code",
   "execution_count": 16,
   "metadata": {
    "collapsed": true
   },
   "outputs": [],
   "source": [
    "attr_messages = msg.msg.apply(attr_replace)"
   ]
  },
  {
   "cell_type": "code",
   "execution_count": 17,
   "metadata": {
    "collapsed": true
   },
   "outputs": [],
   "source": [
    "attr_list = ['price', 'performance', 'comfort', 'reliability', 'luxury']\n",
    "top5_brand = ['bmw', 'toyota', 'pontiac', 'honda', 'acura']"
   ]
  },
  {
   "cell_type": "code",
   "execution_count": 18,
   "metadata": {},
   "outputs": [
    {
     "name": "stdout",
     "output_type": "stream",
     "text": [
      "BMW\n",
      "price : 1.48\n",
      "performance : 1.38\n",
      "comfort : 1.34\n",
      "reliability : 1.42\n",
      "luxury : 1.27\n",
      "The attribute associated with bmw the most is price\n",
      "\n",
      "TOYOTA\n",
      "price : 1.4\n",
      "performance : 1.37\n",
      "comfort : 1.38\n",
      "reliability : 1.57\n",
      "luxury : 1.28\n",
      "The attribute associated with toyota the most is reliability\n",
      "\n",
      "PONTIAC\n",
      "price : 1.63\n",
      "performance : 1.61\n",
      "comfort : 1.46\n",
      "reliability : 1.3\n",
      "luxury : 1.26\n",
      "The attribute associated with pontiac the most is price\n",
      "\n",
      "HONDA\n",
      "price : 1.58\n",
      "performance : 1.42\n",
      "comfort : 1.19\n",
      "reliability : 1.61\n",
      "luxury : 1.35\n",
      "The attribute associated with honda the most is reliability\n",
      "\n",
      "ACURA\n",
      "price : 1.48\n",
      "performance : 1.42\n",
      "comfort : 1.31\n",
      "reliability : 1.34\n",
      "luxury : 1.39\n",
      "The attribute associated with acura the most is price\n",
      "\n"
     ]
    }
   ],
   "source": [
    "for b in top5_brand:\n",
    "    max_lift = 0\n",
    "    max_attr = \"\"\n",
    "    print b.upper()\n",
    "    for a in attr_list: \n",
    "        b_mask = attr_messages.str.contains(b)\n",
    "        a_mask = attr_messages.str.contains(a)\n",
    "        lift = len(attr_messages)*1.0*sum(b_mask & a_mask)/sum(b_mask)/sum(a_mask)\n",
    "        print a,':', round(lift,2)\n",
    "        if lift > max_lift:\n",
    "            max_lift = lift\n",
    "            max_attr = a\n",
    "    print 'The attribute associated with', b, 'the most is', max_attr\n",
    "    print "
   ]
  },
  {
   "cell_type": "markdown",
   "metadata": {},
   "source": [
    "BMW's entry-level luxury cars do not appear to be the ultimate driving machines.  Perhaps at a different price point, we would notice higher lift values for performance or reliability for BMW.  Looking at similarly priced Acuras, BMW actually has a lower lift value on performance, even though these two brands are often comparably priced."
   ]
  },
  {
   "cell_type": "markdown",
   "metadata": {},
   "source": [
    "### Task D"
   ]
  },
  {
   "cell_type": "markdown",
   "metadata": {},
   "source": [
    "BMW product manager: We think it would be beneficial to improve performance of the car slightly so the lift value can increase even more.  Also, being more cost-efficient with inputs could help lower the price, since many people mentioned that BMW has a high price.\n",
    "\n",
    "BMW Marketing manager: The next commercials on television should prominently display all the luxury features that BMWs have to offer at the entry-level luxury price point.  We want to improve on this low lift value.\n",
    "\n",
    "Toyota product manager: We assume people think Toyotas are not reliable, and they talk about it a lot (high lift value).  For the next product models, it's important to make sure the car is safer and more reliable.  \n",
    "\n",
    "Toyota Marketing manager: The lift value for luxury is very low, and we think it would be good to promote new high-tech features that future Toyotas have installed.\n",
    "\n",
    "Pontiac product manager: There is a high lift value for performance, and we assume it's negative.  Future Pontiac cars should have better engines so that people can change their view of Pontiac.\n",
    "\n",
    "Pontiac Marketing manager: Pontiac has a low reliability lift value.  In future commercials, highlighting how long Pontiacs can drive for between services may be important, or how safe and dependable they are.\n",
    "\n",
    "Honda product manager: Honda probably needs to fix its seats, since people never associate Hondas with comfort.\n",
    "\n",
    "Honda Marketing manager: People talk about price a lot, and we assume it's positive (Hondas are well-priced).  In the future, it's important to keep talking about this in advertisements, so people know that Honda is a low-cost alternative to many other entry-level luxury car brands.\n",
    "\n",
    "Acura product manager: Acura does not have a very high comfort lift value, and we think that the interior of the car should be re-designed (maybe making the inside of it more spacious). \n",
    "\n",
    "Acura Marketing manager: Acura has a high association with luxury (assumed positive), but a high association with price (assumed negative).  We think it'd be beneficial in future commercials to highlight how luxurious the Acura is, so people can overcome the negativity they feel towards the price of it."
   ]
  },
  {
   "cell_type": "markdown",
   "metadata": {},
   "source": [
    "### Task E\n",
    "To find the most aspirational brand, we calculate the lift between brands and some words expressing their positive sentiment such as 'want', 'love', 'like' and 'own'. With 'like' in the list, Mercury was the most \"aspirational\" brand in the list. However, we assumed this was partially due to people saying \"do not like Mercury.\"  Our suspicion was confirmed when we removed 'like' from our list of words to count, and Mercury went from number 1 to the second to last position."
   ]
  },
  {
   "cell_type": "markdown",
   "metadata": {},
   "source": [
    "With an updated aspirational words list, Mitsubishi is apparently an aspirational car in the United States.  This is unexpected, but buried inside Edmunds.com is positive insight about this brand.  People may be attracted to this brand because the cars are less expensive than their competition."
   ]
  },
  {
   "cell_type": "code",
   "execution_count": 19,
   "metadata": {
    "collapsed": true
   },
   "outputs": [],
   "source": [
    "pos_words = ['wish','good', 'best', 'great', 'nice','love',\\\n",
    "             'wanted', 'want', 'wants', 'prefer', 'own']"
   ]
  },
  {
   "cell_type": "code",
   "execution_count": 20,
   "metadata": {
    "collapsed": true
   },
   "outputs": [],
   "source": [
    "def aspiration_replace(x):\n",
    "    curr = x\n",
    "    for word in pos_words:\n",
    "        curr = curr.replace(word, 'aspiration')\n",
    "    return curr\n",
    "aspiration_msg = msg.msg.apply(aspiration_replace)"
   ]
  },
  {
   "cell_type": "code",
   "execution_count": 21,
   "metadata": {
    "collapsed": true
   },
   "outputs": [],
   "source": [
    "pos_dict = {}\n",
    "p_mask = aspiration_msg.str.contains('aspiration')\n",
    "for b in brand_list:\n",
    "    b_mask = aspiration_msg.str.contains(b)\n",
    "    lift = (len(p_mask)*1.0*sum(b_mask & p_mask) + 1)/sum(b_mask)/sum(p_mask)\n",
    "    pos_dict[b] = round(lift,2)"
   ]
  },
  {
   "cell_type": "code",
   "execution_count": 22,
   "metadata": {},
   "outputs": [
    {
     "data": {
      "text/plain": [
       "[(u'mitsubishi', 1.54),\n",
       " (u'volkswagen', 1.42),\n",
       " (u'dodge', 1.42),\n",
       " (u'chrysler', 1.42),\n",
       " (u'suzuki', 1.38),\n",
       " (u'saturn', 1.38),\n",
       " (u'hyundai', 1.37),\n",
       " (u'mazda', 1.37),\n",
       " (u'ford', 1.35),\n",
       " (u'audi', 1.33),\n",
       " (u'volvo', 1.32),\n",
       " (u'chevrolet', 1.31),\n",
       " (u'honda', 1.3),\n",
       " (u'cadillac', 1.29),\n",
       " (u'toyota', 1.29),\n",
       " (u'infiniti', 1.27),\n",
       " (u'lincoln', 1.27),\n",
       " (u'buick', 1.26),\n",
       " (u'bmw', 1.24),\n",
       " (u'acura', 1.24),\n",
       " (u'nissan', 1.24),\n",
       " (u'subaru', 1.23),\n",
       " (u'mercedes', 1.22),\n",
       " (u'pontiac', 1.2),\n",
       " (u'mercury', 1.09),\n",
       " (u'kia', 1.04)]"
      ]
     },
     "execution_count": 22,
     "metadata": {},
     "output_type": "execute_result"
    }
   ],
   "source": [
    "sorted(pos_dict.items(), key=operator.itemgetter(1), reverse = True)"
   ]
  }
 ],
 "metadata": {
  "kernelspec": {
   "display_name": "Python 2",
   "language": "python",
   "name": "python2"
  },
  "language_info": {
   "codemirror_mode": {
    "name": "ipython",
    "version": 2
   },
   "file_extension": ".py",
   "mimetype": "text/x-python",
   "name": "python",
   "nbconvert_exporter": "python",
   "pygments_lexer": "ipython2",
   "version": "2.7.13"
  }
 },
 "nbformat": 4,
 "nbformat_minor": 2
}
