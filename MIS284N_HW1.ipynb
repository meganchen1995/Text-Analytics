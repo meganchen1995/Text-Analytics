{
 "cells": [
  {
   "cell_type": "markdown",
   "metadata": {},
   "source": [
    "# MIS 284N Text Analysis Assignment 1"
   ]
  },
  {
   "cell_type": "markdown",
   "metadata": {},
   "source": [
    "*Siqi Chen, Joshua Larky, Jiayan Lu, Jinru Su, Korawat Tanwisuth*"
   ]
  },
  {
   "cell_type": "code",
   "execution_count": 1,
   "metadata": {},
   "outputs": [
    {
     "name": "stdout",
     "output_type": "stream",
     "text": [
      "Populating the interactive namespace from numpy and matplotlib\n"
     ]
    }
   ],
   "source": [
    "import pandas as pd\n",
    "import matplotlib\n",
    "import nltk\n",
    "from nltk.tokenize import word_tokenize\n",
    "from nltk.util import ngrams\n",
    "from pandas import Series, DataFrame\n",
    "from collections import Counter, defaultdict\n",
    "from operator import itemgetter\n",
    "from sklearn.feature_extraction.text import CountVectorizer, TfidfVectorizer, TfidfTransformer\n",
    "from sklearn.naive_bayes import MultinomialNB\n",
    "from sklearn import metrics\n",
    "import numpy as np\n",
    "%pylab inline"
   ]
  },
  {
   "cell_type": "markdown",
   "metadata": {
    "collapsed": true
   },
   "source": [
    "## Part A"
   ]
  },
  {
   "cell_type": "markdown",
   "metadata": {},
   "source": [
    "### A1"
   ]
  },
  {
   "cell_type": "code",
   "execution_count": 2,
   "metadata": {
    "collapsed": true
   },
   "outputs": [],
   "source": [
    "job = pd.read_csv('/Users/meganchen/Desktop/text/hw1/Train_rev1.csv', encoding = 'utf-8', usecols=['FullDescription','SalaryNormalized'])\n",
    "job_sample = job.sample(n=10000,random_state=1)"
   ]
  },
  {
   "cell_type": "code",
   "execution_count": 3,
   "metadata": {
    "collapsed": true
   },
   "outputs": [],
   "source": [
    "job_sample['tokens'] = job_sample['FullDescription'].map(word_tokenize)\n",
    "words = job_sample['tokens'].sum()"
   ]
  },
  {
   "cell_type": "code",
   "execution_count": 4,
   "metadata": {
    "scrolled": false
   },
   "outputs": [
    {
     "data": {
      "text/plain": [
       "[('NN', 450942),\n",
       " ('NNP', 342706),\n",
       " ('IN', 257161),\n",
       " ('JJ', 216089),\n",
       " ('DT', 198748)]"
      ]
     },
     "execution_count": 4,
     "metadata": {},
     "output_type": "execute_result"
    }
   ],
   "source": [
    "tag_counts = defaultdict(int)\n",
    "for (word, tag) in nltk.pos_tag(words): \n",
    "    tag_counts[tag] += 1\n",
    "sorted(tag_counts.items(), key=lambda x: x[1], reverse=True)[:5]"
   ]
  },
  {
   "cell_type": "markdown",
   "metadata": {},
   "source": [
    "### A2"
   ]
  },
  {
   "cell_type": "code",
   "execution_count": 5,
   "metadata": {
    "collapsed": true
   },
   "outputs": [],
   "source": [
    "import scipy.stats as ss\n",
    "top_100 = Counter(words).most_common(100)\n",
    "c_rank = ss.rankdata([c for (w, c) in top_100])\n",
    "rev = [100-r+1 for r in c_rank]"
   ]
  },
  {
   "cell_type": "code",
   "execution_count": 6,
   "metadata": {},
   "outputs": [
    {
     "data": {
      "text/plain": [
       "<matplotlib.text.Text at 0x11141ee48>"
      ]
     },
     "execution_count": 6,
     "metadata": {},
     "output_type": "execute_result"
    },
    {
     "data": {
      "image/png": "[encoded data removed]",
      "text/plain": [
       "<matplotlib.figure.Figure at 0x136c1d908>"
      ]
     },
     "metadata": {},
     "output_type": "display_data"
    }
   ],
   "source": [
    "fig, (ax1, ax2) = subplots(nrows=1,\n",
    "                           ncols=2,\n",
    "                           figsize=(12, 4))\n",
    "ax1.plot([c for c in rev], [c for (w, c) in top_100], 'o')\n",
    "ax1.set_xlabel('rank')\n",
    "ax1.set_ylabel('frequency')\n",
    "ax1.set_title('Frequency vs Rank')\n",
    "\n",
    "ax2.plot([np.log(c) for c in rev], [np.log(c) for (w, c) in top_100], 'o')\n",
    "ax2.set_xlabel('log(rank)')\n",
    "ax2.set_ylabel('log(frequency)')\n",
    "ax2.set_title('log(Frequency) vs log(Rank)')"
   ]
  },
  {
   "cell_type": "markdown",
   "metadata": {},
   "source": [
    "Plot on the left shows word frequency is inversely proportional to its rank, which satisfies Zipf's law. \n",
    "\n",
    "Plot on the right shows word frequency decreases at a lower rate for higher ranks. $k$ is approximately $\\frac{11.5-11}{2} = 0.25$ for rank 1 to 7 ($ e^{2}$), and increase to approximately $\\frac{11-8}{4.6-2} = 1.15$ for rank 7 to 100."
   ]
  },
  {
   "cell_type": "markdown",
   "metadata": {},
   "source": [
    "### A3"
   ]
  },
  {
   "cell_type": "code",
   "execution_count": 7,
   "metadata": {},
   "outputs": [
    {
     "data": {
      "text/html": [
       "<div>\n",
       "<table border=\"1\" class=\"dataframe\">\n",
       "  <thead>\n",
       "    <tr style=\"text-align: right;\">\n",
       "      <th></th>\n",
       "      <th>Word</th>\n",
       "      <th>Frequency</th>\n",
       "    </tr>\n",
       "  </thead>\n",
       "  <tbody>\n",
       "    <tr>\n",
       "      <th>0</th>\n",
       "      <td>,</td>\n",
       "      <td>93494</td>\n",
       "    </tr>\n",
       "    <tr>\n",
       "      <th>1</th>\n",
       "      <td>.</td>\n",
       "      <td>86395</td>\n",
       "    </tr>\n",
       "    <tr>\n",
       "      <th>2</th>\n",
       "      <td>****</td>\n",
       "      <td>18828</td>\n",
       "    </tr>\n",
       "    <tr>\n",
       "      <th>3</th>\n",
       "      <td>:</td>\n",
       "      <td>17054</td>\n",
       "    </tr>\n",
       "    <tr>\n",
       "      <th>4</th>\n",
       "      <td>experience</td>\n",
       "      <td>13351</td>\n",
       "    </tr>\n",
       "    <tr>\n",
       "      <th>5</th>\n",
       "      <td>The</td>\n",
       "      <td>12477</td>\n",
       "    </tr>\n",
       "    <tr>\n",
       "      <th>6</th>\n",
       "      <td>role</td>\n",
       "      <td>11105</td>\n",
       "    </tr>\n",
       "    <tr>\n",
       "      <th>7</th>\n",
       "      <td>team</td>\n",
       "      <td>10893</td>\n",
       "    </tr>\n",
       "    <tr>\n",
       "      <th>8</th>\n",
       "      <td>work</td>\n",
       "      <td>10885</td>\n",
       "    </tr>\n",
       "    <tr>\n",
       "      <th>9</th>\n",
       "      <td>client</td>\n",
       "      <td>10199</td>\n",
       "    </tr>\n",
       "  </tbody>\n",
       "</table>\n",
       "</div>"
      ],
      "text/plain": [
       "         Word  Frequency\n",
       "0           ,      93494\n",
       "1           .      86395\n",
       "2        ****      18828\n",
       "3           :      17054\n",
       "4  experience      13351\n",
       "5         The      12477\n",
       "6        role      11105\n",
       "7        team      10893\n",
       "8        work      10885\n",
       "9      client      10199"
      ]
     },
     "execution_count": 7,
     "metadata": {},
     "output_type": "execute_result"
    }
   ],
   "source": [
    "wnl = nltk.WordNetLemmatizer()\n",
    "stopwords = nltk.corpus.stopwords.words('english')\n",
    "words_nonstop_lemma = [wnl.lemmatize(w) for w in words if w not in stopwords]\n",
    "words_nonstop_lemma_dist = nltk.FreqDist(words_nonstop_lemma) \n",
    "rslt = pd.DataFrame(words_nonstop_lemma_dist.most_common(10),\n",
    "                    columns=['Word', 'Frequency'])\n",
    "rslt"
   ]
  },
  {
   "cell_type": "markdown",
   "metadata": {},
   "source": [
    "## Part B"
   ]
  },
  {
   "cell_type": "markdown",
   "metadata": {},
   "source": [
    "### B1"
   ]
  },
  {
   "cell_type": "code",
   "execution_count": 8,
   "metadata": {
    "collapsed": true
   },
   "outputs": [],
   "source": [
    "job_sample['target'] = 'low'\n",
    "thresh_75 = job_sample['SalaryNormalized'].quantile(.75)\n",
    "job_sample.loc[job_sample['SalaryNormalized'] >= thresh_75,'target'] = 'high'"
   ]
  },
  {
   "cell_type": "code",
   "execution_count": 9,
   "metadata": {
    "collapsed": true
   },
   "outputs": [],
   "source": [
    "job_data = job_sample['FullDescription'].str.lower().tolist()\n",
    "job_label = job_sample['target'].tolist()\n",
    "\n",
    "trainset_size = int(len(job_data)*0.7)\n",
    "\n",
    "X_train = np.array([el for el in job_data[0:trainset_size]])\n",
    "y_train = np.array([el for el in job_label[0:trainset_size]])\n",
    "\n",
    "X_test = np.array([el for el in job_data[trainset_size:len(job_data)]]) \n",
    "y_test = np.array([el for el in job_label[trainset_size:len(job_label)]]) \n",
    "\n",
    "vectorizer = CountVectorizer()"
   ]
  },
  {
   "cell_type": "code",
   "execution_count": 10,
   "metadata": {},
   "outputs": [
    {
     "name": "stdout",
     "output_type": "stream",
     "text": [
      "\n",
      "Here is the accuracy score:\n",
      "0.797333333333\n",
      "\n",
      "Here is the confusion matrix:\n",
      "predicted  high   low\n",
      "actual               \n",
      "high        548   211\n",
      "low         397  1844\n"
     ]
    }
   ],
   "source": [
    "X_train_all = vectorizer.fit_transform(X_train)\n",
    "X_test_all = vectorizer.transform(X_test)\n",
    "\n",
    "nb_classifier = MultinomialNB().fit(X_train_all, y_train)\n",
    "y_nb_predicted = nb_classifier.predict(X_test_all)\n",
    "\n",
    "print ('\\nHere is the accuracy score:')\n",
    "print (metrics.accuracy_score(y_test, y_nb_predicted))\n",
    "\n",
    "print ('\\nHere is the confusion matrix:')\n",
    "print (pd.crosstab(y_test,y_nb_predicted,rownames=['actual'], colnames=['predicted']))"
   ]
  },
  {
   "cell_type": "markdown",
   "metadata": {},
   "source": [
    "### B2"
   ]
  },
  {
   "cell_type": "markdown",
   "metadata": {},
   "source": [
    "Lemmatization will reduce total number of words by grouping the inflected words as a single item and increase the prediction power of informative features. Hence we speculate that prediction accuracy will increase."
   ]
  },
  {
   "cell_type": "code",
   "execution_count": 11,
   "metadata": {
    "collapsed": true
   },
   "outputs": [],
   "source": [
    "class LemmaTokenizer(object):\n",
    "    def __init__(self):\n",
    "        self.wnl = nltk.WordNetLemmatizer()\n",
    "    def __call__(self, doc):\n",
    "        return [self.wnl.lemmatize(t) for t in word_tokenize(doc)]        \n",
    "\n",
    "vectorizer = CountVectorizer(tokenizer=LemmaTokenizer())"
   ]
  },
  {
   "cell_type": "code",
   "execution_count": 12,
   "metadata": {
    "scrolled": true
   },
   "outputs": [
    {
     "name": "stdout",
     "output_type": "stream",
     "text": [
      "\n",
      "Here is the accuracy score:\n",
      "0.809666666667\n",
      "\n",
      "Here is the confusion matrix:\n",
      "predicted  high   low\n",
      "actual               \n",
      "high        528   231\n",
      "low         340  1901\n"
     ]
    }
   ],
   "source": [
    "X_train_lemma = vectorizer.fit_transform(X_train)\n",
    "X_test_lemma = vectorizer.transform(X_test)\n",
    "\n",
    "nb_classifier = MultinomialNB().fit(X_train_lemma, y_train)\n",
    "y_nb_predicted = nb_classifier.predict(X_test_lemma)\n",
    "\n",
    "print ('\\nHere is the accuracy score:')\n",
    "print (metrics.accuracy_score(y_test, y_nb_predicted))\n",
    "\n",
    "print ('\\nHere is the confusion matrix:')\n",
    "print (pd.crosstab(y_test,y_nb_predicted,rownames=['actual'], colnames=['predicted']))"
   ]
  },
  {
   "cell_type": "markdown",
   "metadata": {},
   "source": [
    "Prediction accuracy increases around 1.2% comparing to B1. Lemmatization helps prediction accuracy as we speculated."
   ]
  },
  {
   "cell_type": "markdown",
   "metadata": {},
   "source": [
    "### B3"
   ]
  },
  {
   "cell_type": "markdown",
   "metadata": {},
   "source": [
    "Same as lemmatization, removing stopwords will reduce total number of words, increasing the relative frequency of informative features. Hence we speculate that prediction accuracy will increase as well."
   ]
  },
  {
   "cell_type": "code",
   "execution_count": 13,
   "metadata": {
    "collapsed": true
   },
   "outputs": [],
   "source": [
    "vectorizer = CountVectorizer(stop_words='english')"
   ]
  },
  {
   "cell_type": "code",
   "execution_count": 14,
   "metadata": {
    "scrolled": true
   },
   "outputs": [
    {
     "name": "stdout",
     "output_type": "stream",
     "text": [
      "\n",
      "Here is the accuracy score:\n",
      "0.797666666667\n",
      "\n",
      "Here is the confusion matrix:\n",
      "predicted  high   low\n",
      "actual               \n",
      "high        562   197\n",
      "low         410  1831\n"
     ]
    }
   ],
   "source": [
    "X_train_nonstop = vectorizer.fit_transform(X_train)\n",
    "X_test_nonstop = vectorizer.transform(X_test)\n",
    "\n",
    "nb_classifier = MultinomialNB().fit(X_train_nonstop, y_train)\n",
    "y_nb_predicted = nb_classifier.predict(X_test_nonstop)\n",
    "\n",
    "print ('\\nHere is the accuracy score:')\n",
    "print (metrics.accuracy_score(y_test, y_nb_predicted))\n",
    "\n",
    "print ('\\nHere is the confusion matrix:')\n",
    "print (pd.crosstab(y_test,y_nb_predicted,rownames=['actual'], colnames=['predicted']))"
   ]
  },
  {
   "cell_type": "markdown",
   "metadata": {},
   "source": [
    "Prediction accuracy increases around 0.03% comparing to B1. The effect of removing stopwords on prediction accuracy is much smaller comparing to lemmatization."
   ]
  },
  {
   "cell_type": "code",
   "execution_count": 15,
   "metadata": {
    "collapsed": true
   },
   "outputs": [],
   "source": [
    "def show_most_informative_features(vectorizer, clf, n=10):\n",
    "    feature_names = vectorizer.get_feature_names()\n",
    "    coefs_with_fns = sorted(zip(nb_classifier.coef_[0], feature_names))\n",
    "    top_low = [fn for (coef,fn) in coefs_with_fns[:n]]\n",
    "    top_high = [fn for (coef,fn) in coefs_with_fns[:-(n + 1):-1]]\n",
    "    print ('\\n The top %d most informative features for low salary: \\n %s'%(n,','.join(top_low))) \n",
    "    print ('\\n The top %d most informative features for high salary: \\n %s'%(n,','.join(top_high)))"
   ]
  },
  {
   "cell_type": "code",
   "execution_count": 16,
   "metadata": {
    "scrolled": true
   },
   "outputs": [
    {
     "name": "stdout",
     "output_type": "stream",
     "text": [
      "\n",
      " The top 10 most informative features for low salary: \n",
      " 001,00ambition24hours,0131,015,0mq,0nt,100amps,1012,1015,10m\n",
      "\n",
      " The top 10 most informative features for high salary: \n",
      " experience,work,role,team,skills,sales,working,business,client,company\n"
     ]
    }
   ],
   "source": [
    "show_most_informative_features(vectorizer, nb_classifier, n=10)"
   ]
  },
  {
   "cell_type": "markdown",
   "metadata": {},
   "source": [
    "### B4"
   ]
  },
  {
   "cell_type": "code",
   "execution_count": 17,
   "metadata": {
    "collapsed": true
   },
   "outputs": [],
   "source": [
    "def bi_words(x):\n",
    "    tokens = word_tokenize(x.lower())\n",
    "    pos = nltk.pos_tag(tokens)\n",
    "    tag_list = []\n",
    "    for p in pos:\n",
    "        tag_list.append(p[1])\n",
    "    bigrams = ngrams(tag_list,2)\n",
    "    return ' '.join(tokens + [''.join(grams) for grams in bigrams])"
   ]
  },
  {
   "cell_type": "code",
   "execution_count": 18,
   "metadata": {
    "collapsed": true
   },
   "outputs": [],
   "source": [
    "job_sample['word_tag'] = job_sample['FullDescription'].apply(bi_words)"
   ]
  },
  {
   "cell_type": "code",
   "execution_count": 19,
   "metadata": {
    "collapsed": true
   },
   "outputs": [],
   "source": [
    "tag_data = job_sample['word_tag'].tolist()\n",
    "tag_train = np.array([el for el in tag_data[0:trainset_size]])\n",
    "tag_test = np.array([el for el in tag_data[trainset_size:len(tag_data)]])"
   ]
  },
  {
   "cell_type": "code",
   "execution_count": 20,
   "metadata": {
    "collapsed": true
   },
   "outputs": [],
   "source": [
    "vectorizer = CountVectorizer()\n",
    "X_train_tag = vectorizer.fit_transform(tag_train)\n",
    "X_test_tag = vectorizer.transform(tag_test)"
   ]
  },
  {
   "cell_type": "code",
   "execution_count": 21,
   "metadata": {
    "scrolled": true
   },
   "outputs": [
    {
     "name": "stdout",
     "output_type": "stream",
     "text": [
      "\n",
      "Here is the accuracy score:\n",
      "0.795666666667\n",
      "\n",
      "Here is the confusion matrix:\n",
      "predicted  high   low\n",
      "actual               \n",
      "high        540   219\n",
      "low         394  1847\n"
     ]
    }
   ],
   "source": [
    "nb_classifier = MultinomialNB().fit(X_train_tag, y_train)\n",
    "y_nb_predicted = nb_classifier.predict(X_test_tag)\n",
    "\n",
    "print ('\\nHere is the accuracy score:')\n",
    "print (metrics.accuracy_score(y_test, y_nb_predicted))\n",
    "\n",
    "print ('\\nHere is the confusion matrix:')\n",
    "print (pd.crosstab(y_test,y_nb_predicted,rownames=['actual'], colnames=['predicted']))"
   ]
  },
  {
   "cell_type": "markdown",
   "metadata": {},
   "source": [
    "Prediction accuracy after adding POS bigrams to bag-of-words decreases slightly by 0.17% comparing to B1. "
   ]
  }
 ],
 "metadata": {
  "kernelspec": {
   "display_name": "Python 3",
   "language": "python",
   "name": "python3"
  },
  "language_info": {
   "codemirror_mode": {
    "name": "ipython",
    "version": 3
   },
   "file_extension": ".py",
   "mimetype": "text/x-python",
   "name": "python",
   "nbconvert_exporter": "python",
   "pygments_lexer": "ipython3",
   "version": "3.6.0"
  }
 },
 "nbformat": 4,
 "nbformat_minor": 2
}
